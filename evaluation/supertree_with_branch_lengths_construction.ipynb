{
  "nbformat": 4,
  "nbformat_minor": 0,
  "metadata": {
    "colab": {
      "provenance": []
    },
    "kernelspec": {
      "name": "python3",
      "display_name": "Python 3"
    },
    "language_info": {
      "name": "python"
    }
  },
  "cells": [
    {
      "cell_type": "markdown",
      "source": [
        "# Supertree Construction with Averaged Branch Lengths"
      ],
      "metadata": {
        "id": "oeYUtTjXjeb6"
      }
    },
    {
      "cell_type": "markdown",
      "source": [
        "As a reference tree, we constructed a supertree and assigned branch lengths through post-processing. The overall approach consisted of two main steps: (1) inferring the supertree topology, and (2) assigning branch lengths by averaging values across consistent splits from the source trees.\n",
        "The following script constructs a supertree with branch lengths for each dataset (Amphibians, Birds, Mammals, and Sharks)."
      ],
      "metadata": {
        "id": "8lnRfCXxjjqb"
      }
    },
    {
      "cell_type": "code",
      "execution_count": 1,
      "metadata": {
        "colab": {
          "base_uri": "https://localhost:8080/"
        },
        "id": "nQga6tX8jZmp",
        "outputId": "5e567004-a919-4140-bce1-580430542a95"
      },
      "outputs": [
        {
          "output_type": "stream",
          "name": "stdout",
          "text": [
            "Collecting sc-supertree\n",
            "  Downloading sc_supertree-2025.6.25-py3-none-any.whl.metadata (6.2 kB)\n",
            "Collecting cogent3\n",
            "  Downloading cogent3-2025.7.10a4-py3-none-any.whl.metadata (12 kB)\n",
            "Collecting dendropy\n",
            "  Downloading DendroPy-5.0.8-py3-none-any.whl.metadata (6.1 kB)\n",
            "Requirement already satisfied: click in /usr/local/lib/python3.11/dist-packages (from sc-supertree) (8.2.1)\n",
            "Requirement already satisfied: numpy in /usr/local/lib/python3.11/dist-packages (from sc-supertree) (2.0.2)\n",
            "Requirement already satisfied: scikit-learn>=1.5.2 in /usr/local/lib/python3.11/dist-packages (from sc-supertree) (1.6.1)\n",
            "Requirement already satisfied: chardet in /usr/local/lib/python3.11/dist-packages (from cogent3) (5.2.0)\n",
            "Collecting loky!=3.5.0 (from cogent3)\n",
            "  Downloading loky-3.5.5-py3-none-any.whl.metadata (8.4 kB)\n",
            "Requirement already satisfied: numba>0.54 in /usr/local/lib/python3.11/dist-packages (from cogent3) (0.60.0)\n",
            "Requirement already satisfied: scipy in /usr/local/lib/python3.11/dist-packages (from cogent3) (1.16.0)\n",
            "Collecting scitrack (from cogent3)\n",
            "  Downloading scitrack-2024.10.8-py3-none-any.whl.metadata (8.9 kB)\n",
            "Collecting stevedore (from cogent3)\n",
            "  Downloading stevedore-5.4.1-py3-none-any.whl.metadata (2.3 kB)\n",
            "Requirement already satisfied: tqdm in /usr/local/lib/python3.11/dist-packages (from cogent3) (4.67.1)\n",
            "Requirement already satisfied: typing_extensions in /usr/local/lib/python3.11/dist-packages (from cogent3) (4.14.1)\n",
            "Requirement already satisfied: setuptools in /usr/local/lib/python3.11/dist-packages (from dendropy) (75.2.0)\n",
            "Requirement already satisfied: cloudpickle in /usr/local/lib/python3.11/dist-packages (from loky!=3.5.0->cogent3) (3.1.1)\n",
            "Requirement already satisfied: llvmlite<0.44,>=0.43.0dev0 in /usr/local/lib/python3.11/dist-packages (from numba>0.54->cogent3) (0.43.0)\n",
            "Requirement already satisfied: joblib>=1.2.0 in /usr/local/lib/python3.11/dist-packages (from scikit-learn>=1.5.2->sc-supertree) (1.5.1)\n",
            "Requirement already satisfied: threadpoolctl>=3.1.0 in /usr/local/lib/python3.11/dist-packages (from scikit-learn>=1.5.2->sc-supertree) (3.6.0)\n",
            "Collecting pbr>=2.0.0 (from stevedore->cogent3)\n",
            "  Downloading pbr-6.1.1-py2.py3-none-any.whl.metadata (3.4 kB)\n",
            "Downloading sc_supertree-2025.6.25-py3-none-any.whl (12 kB)\n",
            "Downloading cogent3-2025.7.10a4-py3-none-any.whl (716 kB)\n",
            "\u001b[2K   \u001b[90m━━━━━━━━━━━━━━━━━━━━━━━━━━━━━━━━━━━━━━━━\u001b[0m \u001b[32m716.3/716.3 kB\u001b[0m \u001b[31m12.3 MB/s\u001b[0m eta \u001b[36m0:00:00\u001b[0m\n",
            "\u001b[?25hDownloading DendroPy-5.0.8-py3-none-any.whl (465 kB)\n",
            "\u001b[2K   \u001b[90m━━━━━━━━━━━━━━━━━━━━━━━━━━━━━━━━━━━━━━━━\u001b[0m \u001b[32m465.1/465.1 kB\u001b[0m \u001b[31m28.4 MB/s\u001b[0m eta \u001b[36m0:00:00\u001b[0m\n",
            "\u001b[?25hDownloading loky-3.5.5-py3-none-any.whl (56 kB)\n",
            "\u001b[2K   \u001b[90m━━━━━━━━━━━━━━━━━━━━━━━━━━━━━━━━━━━━━━━━\u001b[0m \u001b[32m56.0/56.0 kB\u001b[0m \u001b[31m4.5 MB/s\u001b[0m eta \u001b[36m0:00:00\u001b[0m\n",
            "\u001b[?25hDownloading scitrack-2024.10.8-py3-none-any.whl (7.8 kB)\n",
            "Downloading stevedore-5.4.1-py3-none-any.whl (49 kB)\n",
            "\u001b[2K   \u001b[90m━━━━━━━━━━━━━━━━━━━━━━━━━━━━━━━━━━━━━━━━\u001b[0m \u001b[32m49.5/49.5 kB\u001b[0m \u001b[31m3.7 MB/s\u001b[0m eta \u001b[36m0:00:00\u001b[0m\n",
            "\u001b[?25hDownloading pbr-6.1.1-py2.py3-none-any.whl (108 kB)\n",
            "\u001b[2K   \u001b[90m━━━━━━━━━━━━━━━━━━━━━━━━━━━━━━━━━━━━━━━━\u001b[0m \u001b[32m109.0/109.0 kB\u001b[0m \u001b[31m8.0 MB/s\u001b[0m eta \u001b[36m0:00:00\u001b[0m\n",
            "\u001b[?25hInstalling collected packages: scitrack, pbr, loky, dendropy, stevedore, cogent3, sc-supertree\n",
            "Successfully installed cogent3-2025.7.10a4 dendropy-5.0.8 loky-3.5.5 pbr-6.1.1 sc-supertree-2025.6.25 scitrack-2024.10.8 stevedore-5.4.1\n"
          ]
        }
      ],
      "source": [
        "!pip install sc-supertree cogent3 dendropy"
      ]
    },
    {
      "cell_type": "code",
      "source": [
        "from sc_supertree import load_trees, construct_supertree\n",
        "import dendropy\n",
        "import numpy as np"
      ],
      "metadata": {
        "id": "cNoTM7cWjrnD"
      },
      "execution_count": 8,
      "outputs": []
    },
    {
      "cell_type": "code",
      "source": [
        "def read_dendropy_trees(filename):\n",
        "    taxa = dendropy.TaxonNamespace()\n",
        "    trees = dendropy.TreeList.get(path=filename, schema='newick', taxon_namespace=taxa, preserve_underscores=True)\n",
        "    return trees\n",
        "\n",
        "def assign_branch_lengths(supertree_dendro, source_trees):\n",
        "    supertree_dendro.encode_bipartitions()\n",
        "    for tree in source_trees:\n",
        "        tree.encode_bipartitions()\n",
        "\n",
        "    for edge in supertree_dendro.postorder_edge_iter():\n",
        "        if edge.head_node is None:\n",
        "            continue  # skip root\n",
        "\n",
        "        split = edge.split_bitmask\n",
        "        matching_lengths = []\n",
        "\n",
        "        for tree in source_trees:\n",
        "            for e in tree.postorder_edge_iter():\n",
        "                if e.head_node is None:\n",
        "                    continue\n",
        "                if e.split_bitmask == split and e.length is not None:\n",
        "                    matching_lengths.append(e.length)\n",
        "\n",
        "        if matching_lengths:\n",
        "            edge.length = sum(matching_lengths) / len(matching_lengths)\n",
        "\n",
        "    return supertree_dendro\n",
        "\n",
        "def save_tree(tree, filename):\n",
        "    tree.write(\n",
        "        path=filename,\n",
        "        schema='newick',\n",
        "        suppress_rooting=True,\n",
        "        unquoted_underscores=True\n",
        "    )\n"
      ],
      "metadata": {
        "id": "YpkVqeAmjvpk"
      },
      "execution_count": 18,
      "outputs": []
    },
    {
      "cell_type": "code",
      "source": [
        "source_file = \"amphibians170.txt\"\n",
        "output_file = \"supertree_amphibians.txt\"\n",
        "\n",
        "# Load input trees for both topology and branch length inference\n",
        "source_trees_cogent = load_trees(source_file)  # For sc-supertree\n",
        "source_trees_dendro = read_dendropy_trees(source_file)  # For averaging"
      ],
      "metadata": {
        "id": "20Osti1zj4MU"
      },
      "execution_count": 19,
      "outputs": []
    },
    {
      "cell_type": "code",
      "source": [
        "source_file = \"birds100.txt\"\n",
        "output_file = \"supertree_birds.txt\"\n",
        "\n",
        "# Load input trees for both topology and branch length inference\n",
        "source_trees_cogent = load_trees(source_file)  # For sc-supertree\n",
        "source_trees_dendro = read_dendropy_trees(source_file)  # For averaging"
      ],
      "metadata": {
        "id": "QajvTZVWrHYY"
      },
      "execution_count": 26,
      "outputs": []
    },
    {
      "cell_type": "code",
      "source": [
        "source_file = \"mammals140.txt\"\n",
        "output_file = \"supertree_mammals.txt\"\n",
        "\n",
        "# Load input trees for both topology and branch length inference\n",
        "source_trees_cogent = load_trees(source_file)  # For sc-supertree\n",
        "source_trees_dendro = read_dendropy_trees(source_file)  # For averaging"
      ],
      "metadata": {
        "id": "NJXxf9nfrq7n"
      },
      "execution_count": 28,
      "outputs": []
    },
    {
      "cell_type": "code",
      "source": [
        "source_file = \"sharks100.txt\"\n",
        "output_file = \"supertree_sharks.txt\"\n",
        "\n",
        "# Load input trees for both topology and branch length inference\n",
        "source_trees_cogent = load_trees(source_file)  # For sc-supertree\n",
        "source_trees_dendro = read_dendropy_trees(source_file)  # For averaging"
      ],
      "metadata": {
        "id": "sNZNEH_NsEoR"
      },
      "execution_count": 30,
      "outputs": []
    },
    {
      "cell_type": "code",
      "source": [
        "print(\"Building supertree...\")\n",
        "# Step 1: Build the supertree topology and save to file (without branch lengths)\n",
        "temp_topology_file = \"temp_supertree_topology.nwk\"\n",
        "supertree = construct_supertree(source_trees_cogent, pcg_weighting=\"branch\")\n",
        "supertree.write(temp_topology_file)\n",
        "print(f\"Supertree topology saved to: {temp_topology_file}\")\n",
        "\n",
        "# Step 2: Load the topology into DendroPy\n",
        "taxon_namespace = source_trees_dendro.taxon_namespace\n",
        "supertree_dendro = dendropy.Tree.get(path=temp_topology_file, schema='newick', taxon_namespace=taxon_namespace)\n",
        "\n",
        "# Step 3: Assign averaged branch lengths\n",
        "print(\"Assigning branch lengths...\")\n",
        "supertree_with_lengths = assign_branch_lengths(supertree_dendro, source_trees_dendro)\n",
        "\n",
        "# Step 4: Save final supertree with branch lengths\n",
        "save_tree(supertree_with_lengths, output_file)\n",
        "print(f\"Supertree with branch lengths saved to: {output_file}\")\n",
        "\n",
        "\n",
        "#print(supertree_with_lengths.as_string(schema='newick'))"
      ],
      "metadata": {
        "colab": {
          "base_uri": "https://localhost:8080/"
        },
        "id": "r9kklO6ckDaQ",
        "outputId": "66feb840-5603-47aa-dc26-ec3e0bc25c09"
      },
      "execution_count": 31,
      "outputs": [
        {
          "output_type": "stream",
          "name": "stdout",
          "text": [
            "Building supertree...\n",
            "Supertree topology saved to: temp_supertree_topology.nwk\n",
            "Assigning branch lengths...\n",
            "Supertree with branch lengths saved to: supertree_sharks.txt\n"
          ]
        }
      ]
    },
    {
      "cell_type": "markdown",
      "source": [
        "### Additional checking and debugging"
      ],
      "metadata": {
        "id": "K4e2mNlem1PN"
      }
    },
    {
      "cell_type": "code",
      "source": [
        "import random\n",
        "\n",
        "def debug_compare_split_lengths(supertree, source_trees):\n",
        "    \"\"\"\n",
        "    Randomly selects a non-root internal edge from the supertree,\n",
        "    finds all matching edges in source trees,\n",
        "    and compares their branch lengths.\n",
        "    \"\"\"\n",
        "    # Make sure splits are encoded\n",
        "    supertree.encode_bipartitions()\n",
        "    for tree in source_trees:\n",
        "        tree.encode_bipartitions()\n",
        "\n",
        "    # Collect candidate edges (exclude root and leaves)\n",
        "    internal_edges = [\n",
        "        edge for edge in supertree.postorder_edge_iter()\n",
        "        if edge.head_node and not edge.head_node.is_leaf()\n",
        "    ]\n",
        "\n",
        "    if not internal_edges:\n",
        "        print(\"No internal edges found.\")\n",
        "        return\n",
        "\n",
        "    # Pick a random internal edge\n",
        "    selected_edge = random.choice(internal_edges)\n",
        "    selected_split = selected_edge.split_bitmask\n",
        "\n",
        "    # Identify taxa under this edge\n",
        "    taxa_under_split = selected_edge.head_node.leaf_nodes()\n",
        "    taxon_labels = sorted([leaf.taxon.label for leaf in taxa_under_split])\n",
        "\n",
        "    print(f\"\\n🔍 Debugging a split for taxa: {taxon_labels}\")\n",
        "\n",
        "    if selected_edge.length is not None:\n",
        "        print(f\"Supertree assigned branch length: {selected_edge.length:.4f}\")\n",
        "    else:\n",
        "        print(\"⚠️ Supertree edge has no branch length assigned.\")\n",
        "\n",
        "    # Search for matching splits in source trees\n",
        "    matching_lengths = []\n",
        "    for idx, tree in enumerate(source_trees):\n",
        "        for edge in tree.postorder_edge_iter():\n",
        "            if edge.head_node and edge.split_bitmask == selected_split and edge.length is not None:\n",
        "                matching_lengths.append(edge.length)\n",
        "\n",
        "    if matching_lengths:\n",
        "        avg_length = sum(matching_lengths) / len(matching_lengths)\n",
        "        print(f\"✅ Found {len(matching_lengths)} matching splits in source trees.\")\n",
        "        print(f\"Average branch length from source trees: {avg_length:.4f}\")\n",
        "        print(f\"Individual lengths: {[round(l, 4) for l in matching_lengths]}\")\n",
        "    else:\n",
        "        print(\"⚠️ No matching splits found in source trees.\")"
      ],
      "metadata": {
        "id": "R0V-AvA3m5EW"
      },
      "execution_count": 32,
      "outputs": []
    },
    {
      "cell_type": "code",
      "source": [
        "debug_compare_split_lengths(supertree_with_lengths, source_trees_dendro)"
      ],
      "metadata": {
        "colab": {
          "base_uri": "https://localhost:8080/"
        },
        "id": "wP-YC5_nnQk8",
        "outputId": "eda645fd-b513-4bbf-f410-145d3515d16d"
      },
      "execution_count": 36,
      "outputs": [
        {
          "output_type": "stream",
          "name": "stdout",
          "text": [
            "\n",
            "🔍 Debugging a split for taxa: ['Arhynchobatis_asperrimus', 'Insentiraja_laxipella']\n",
            "Supertree assigned branch length: 20.8122\n",
            "✅ Found 10 matching splits in source trees.\n",
            "Average branch length from source trees: 20.8122\n",
            "Individual lengths: [35.3965, 10.2715, 25.9714, 3.4099, 32.4682, 21.4506, 42.6491, 15.1806, 19.2976, 2.0272]\n"
          ]
        }
      ]
    }
  ]
}