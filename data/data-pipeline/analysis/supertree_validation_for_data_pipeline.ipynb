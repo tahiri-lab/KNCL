{
  "nbformat": 4,
  "nbformat_minor": 0,
  "metadata": {
    "colab": {
      "provenance": []
    },
    "kernelspec": {
      "name": "python3",
      "display_name": "Python 3"
    },
    "language_info": {
      "name": "python"
    }
  },
  "cells": [
    {
      "cell_type": "markdown",
      "source": [
        "## Demonstration with supertree construction"
      ],
      "metadata": {
        "id": "9hq3z5x2QA9a"
      }
    },
    {
      "cell_type": "markdown",
      "source": [
        "We created 100 input sets, each consisting of 30 phylogenetic trees organized into 10 overlapping subsets, with taxon overlap levels gradually increasing from 10% to 90%. Each tree includes 30 taxa, selected from a total of 55 unique species, and was assembled using the proposed pipeline.\n",
        "\n",
        "We applied several established supertree construction methods to these input sets using the CLANN software package (the split fit algorithm, the most similar supertree algorithm, and the average supertree approach based on neighbor joining), as well as the majority-rule and spectral clustering methods.\n",
        "\n",
        "For each method, we measured the success rate of supertree construction, the average number of taxa in the output trees, and the average Robinson-Foulds (RF) distance between each supertree and its corresponding 30 input trees.\n",
        "The complete set of input trees and resulting supertrees used in this demonstration is available in the GitHub repository associated with this study.\n"
      ],
      "metadata": {
        "id": "pdt7fg-aQMox"
      }
    },
    {
      "cell_type": "markdown",
      "source": [
        "The success rate reflects the proportion of input sets (out of 100) for which the supertree was successfully parsed, included all expected taxa, and could be compared to the corresponding input trees without errors."
      ],
      "metadata": {
        "id": "rT6vahh4Wlnp"
      }
    },
    {
      "cell_type": "code",
      "source": [
        "!pip install dendropy pandas"
      ],
      "metadata": {
        "colab": {
          "base_uri": "https://localhost:8080/"
        },
        "id": "gNf18fnaQHJB",
        "outputId": "c8286bf2-c3ac-494f-ec0b-7cded830f22d"
      },
      "execution_count": 1,
      "outputs": [
        {
          "output_type": "stream",
          "name": "stdout",
          "text": [
            "Collecting dendropy\n",
            "  Downloading DendroPy-5.0.8-py3-none-any.whl.metadata (6.1 kB)\n",
            "Requirement already satisfied: pandas in /usr/local/lib/python3.11/dist-packages (2.2.2)\n",
            "Requirement already satisfied: setuptools in /usr/local/lib/python3.11/dist-packages (from dendropy) (75.2.0)\n",
            "Requirement already satisfied: numpy>=1.23.2 in /usr/local/lib/python3.11/dist-packages (from pandas) (2.0.2)\n",
            "Requirement already satisfied: python-dateutil>=2.8.2 in /usr/local/lib/python3.11/dist-packages (from pandas) (2.9.0.post0)\n",
            "Requirement already satisfied: pytz>=2020.1 in /usr/local/lib/python3.11/dist-packages (from pandas) (2025.2)\n",
            "Requirement already satisfied: tzdata>=2022.7 in /usr/local/lib/python3.11/dist-packages (from pandas) (2025.2)\n",
            "Requirement already satisfied: six>=1.5 in /usr/local/lib/python3.11/dist-packages (from python-dateutil>=2.8.2->pandas) (1.17.0)\n",
            "Downloading DendroPy-5.0.8-py3-none-any.whl (465 kB)\n",
            "\u001b[2K   \u001b[90m━━━━━━━━━━━━━━━━━━━━━━━━━━━━━━━━━━━━━━━━\u001b[0m \u001b[32m465.1/465.1 kB\u001b[0m \u001b[31m6.1 MB/s\u001b[0m eta \u001b[36m0:00:00\u001b[0m\n",
            "\u001b[?25hInstalling collected packages: dendropy\n",
            "Successfully installed dendropy-5.0.8\n"
          ]
        }
      ]
    },
    {
      "cell_type": "code",
      "execution_count": 2,
      "metadata": {
        "colab": {
          "base_uri": "https://localhost:8080/"
        },
        "id": "Ptn26DM1PV6b",
        "outputId": "464b6b19-3e2c-45ea-efd9-1c3ad13f6359"
      },
      "outputs": [
        {
          "output_type": "stream",
          "name": "stdout",
          "text": [
            "             Method Success rate Average taxa in output Average RF distance\n",
            "          Split Fit       100.0%                   55.0                94.6\n",
            "       Most Similar       100.0%                   55.0                95.8\n",
            "         Average NJ       100.0%                   55.0                94.7\n",
            "      Majority Rule       100.0%                   55.0                82.8\n",
            "Spectral Clustering       100.0%                   55.0                85.9\n"
          ]
        }
      ],
      "source": [
        "import os\n",
        "import statistics\n",
        "from dendropy import Tree, TreeList\n",
        "from dendropy.calculate.treecompare import symmetric_difference\n",
        "import pandas as pd\n",
        "\n",
        "# Path to the input tree sets\n",
        "input_folder = \"input_multisets\"\n",
        "\n",
        "# Paths to 5 supertree files\n",
        "method_files = {\n",
        "    \"Split Fit\": \"supertrees_sfit.txt\",\n",
        "    \"Most Similar\": \"supertrees_dfit.txt\",\n",
        "    \"Average NJ\": \"supertrees_nj.txt\",\n",
        "    \"Majority Rule\": \"supertrees_mrplus.txt\",\n",
        "    \"Spectral Clustering\": \"supertrees_scs.txt\"\n",
        "}\n",
        "\n",
        "# Load input multisets into a list of TreeList objects\n",
        "input_trees_per_set = []\n",
        "for i in range(1, 101):\n",
        "    file_path = os.path.join(input_folder, f\"multiset_{i}.txt\")\n",
        "    try:\n",
        "        trees = TreeList.get(path=file_path, schema=\"newick\", preserve_underscores=True)\n",
        "        input_trees_per_set.append(trees)\n",
        "    except Exception as e:\n",
        "        print(f\"Error reading {file_path}: {e}\")\n",
        "        input_trees_per_set.append([])\n",
        "\n",
        "# Analyze supertrees\n",
        "results = []\n",
        "\n",
        "for method_name, supertree_file in method_files.items():\n",
        "    with open(supertree_file, 'r') as f:\n",
        "        lines = f.readlines()\n",
        "\n",
        "    success_count = 0\n",
        "    taxon_counts = []\n",
        "    rf_distances = []\n",
        "\n",
        "    for idx, line in enumerate(lines):\n",
        "        line = line.strip()\n",
        "        if not line:\n",
        "            continue\n",
        "        try:\n",
        "            supertree = Tree.get(data=line, schema=\"newick\", preserve_underscores=True)\n",
        "            input_trees = input_trees_per_set[idx]\n",
        "            if not input_trees:\n",
        "                continue\n",
        "\n",
        "            success_count += 1\n",
        "            taxon_counts.append(len(supertree.taxon_namespace))\n",
        "\n",
        "            distances = []\n",
        "            for input_tree in input_trees:\n",
        "                input_tree.migrate_taxon_namespace(supertree.taxon_namespace)\n",
        "                rf = symmetric_difference(supertree, input_tree)\n",
        "                distances.append(rf)\n",
        "            avg_rf = sum(distances) / len(distances)\n",
        "            rf_distances.append(avg_rf)\n",
        "        except Exception as e:\n",
        "            print(f\"[{method_name}] Error on line {idx + 1}: {e}\")\n",
        "            continue\n",
        "\n",
        "    avg_taxa = statistics.mean(taxon_counts) if taxon_counts else 0\n",
        "    avg_rf = statistics.mean(rf_distances) if rf_distances else 0\n",
        "    total = len(lines)\n",
        "\n",
        "    results.append({\n",
        "        \"Method\": method_name,\n",
        "        \"Success rate\": f\"{100.0 * success_count / total:.1f}%\",\n",
        "        \"Average taxa in output\": f\"{avg_taxa:.1f}\",\n",
        "        \"Average RF distance\": f\"{avg_rf:.1f}\"\n",
        "    })\n",
        "\n",
        "# Output results\n",
        "df = pd.DataFrame(results)\n",
        "print(df.to_string(index=False))"
      ]
    },
    {
      "cell_type": "markdown",
      "source": [
        "Note that RF distances are reported as absolute values and represent the average symmetric difference between each supertree and its corresponding 30 input trees. Given that trees were constructed from partially overlapping taxon sets and not all input trees contain the same species, the observed values (ranging from ~83 to ~96) are within expected bounds for this type of dataset."
      ],
      "metadata": {
        "id": "Y0Zi2WBqWeEk"
      }
    }
  ]
}